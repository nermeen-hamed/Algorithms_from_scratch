{
 "cells": [
  {
   "cell_type": "code",
   "execution_count": 1,
   "id": "988fdece",
   "metadata": {
    "ExecuteTime": {
     "end_time": "2022-04-27T13:40:46.416029Z",
     "start_time": "2022-04-27T13:40:45.924162Z"
    }
   },
   "outputs": [],
   "source": [
    "import pandas as pd\n",
    "import numpy as np"
   ]
  },
  {
   "cell_type": "code",
   "execution_count": 5,
   "id": "f1ee715d",
   "metadata": {
    "ExecuteTime": {
     "end_time": "2022-04-27T13:41:15.238429Z",
     "start_time": "2022-04-27T13:41:15.206056Z"
    }
   },
   "outputs": [],
   "source": [
    "df=pd.read_csv('Power_Consumption.csv')"
   ]
  },
  {
   "cell_type": "code",
   "execution_count": 24,
   "id": "86c2722e",
   "metadata": {
    "ExecuteTime": {
     "end_time": "2022-04-27T13:49:15.056593Z",
     "start_time": "2022-04-27T13:49:15.010039Z"
    }
   },
   "outputs": [
    {
     "data": {
      "text/html": [
       "<div>\n",
       "<style scoped>\n",
       "    .dataframe tbody tr th:only-of-type {\n",
       "        vertical-align: middle;\n",
       "    }\n",
       "\n",
       "    .dataframe tbody tr th {\n",
       "        vertical-align: top;\n",
       "    }\n",
       "\n",
       "    .dataframe thead th {\n",
       "        text-align: right;\n",
       "    }\n",
       "</style>\n",
       "<table border=\"1\" class=\"dataframe\">\n",
       "  <thead>\n",
       "    <tr style=\"text-align: right;\">\n",
       "      <th></th>\n",
       "      <th>Id</th>\n",
       "      <th>Global_active_power</th>\n",
       "      <th>Global_reactive_power</th>\n",
       "      <th>Voltage</th>\n",
       "      <th>Global_intensity</th>\n",
       "      <th>Sub_metering_1</th>\n",
       "      <th>Sub_metering_2</th>\n",
       "      <th>Sub_metering_3</th>\n",
       "    </tr>\n",
       "  </thead>\n",
       "  <tbody>\n",
       "    <tr>\n",
       "      <th>0</th>\n",
       "      <td>1</td>\n",
       "      <td>4.216</td>\n",
       "      <td>0.418</td>\n",
       "      <td>234.84</td>\n",
       "      <td>18.4</td>\n",
       "      <td>0</td>\n",
       "      <td>1</td>\n",
       "      <td>17</td>\n",
       "    </tr>\n",
       "    <tr>\n",
       "      <th>1</th>\n",
       "      <td>2</td>\n",
       "      <td>5.360</td>\n",
       "      <td>0.436</td>\n",
       "      <td>233.63</td>\n",
       "      <td>23.0</td>\n",
       "      <td>0</td>\n",
       "      <td>1</td>\n",
       "      <td>16</td>\n",
       "    </tr>\n",
       "    <tr>\n",
       "      <th>2</th>\n",
       "      <td>3</td>\n",
       "      <td>5.374</td>\n",
       "      <td>0.498</td>\n",
       "      <td>233.29</td>\n",
       "      <td>23.0</td>\n",
       "      <td>0</td>\n",
       "      <td>2</td>\n",
       "      <td>17</td>\n",
       "    </tr>\n",
       "    <tr>\n",
       "      <th>3</th>\n",
       "      <td>4</td>\n",
       "      <td>5.388</td>\n",
       "      <td>0.502</td>\n",
       "      <td>233.74</td>\n",
       "      <td>23.0</td>\n",
       "      <td>0</td>\n",
       "      <td>1</td>\n",
       "      <td>17</td>\n",
       "    </tr>\n",
       "    <tr>\n",
       "      <th>4</th>\n",
       "      <td>5</td>\n",
       "      <td>3.666</td>\n",
       "      <td>0.528</td>\n",
       "      <td>235.68</td>\n",
       "      <td>15.8</td>\n",
       "      <td>0</td>\n",
       "      <td>1</td>\n",
       "      <td>17</td>\n",
       "    </tr>\n",
       "    <tr>\n",
       "      <th>...</th>\n",
       "      <td>...</td>\n",
       "      <td>...</td>\n",
       "      <td>...</td>\n",
       "      <td>...</td>\n",
       "      <td>...</td>\n",
       "      <td>...</td>\n",
       "      <td>...</td>\n",
       "      <td>...</td>\n",
       "    </tr>\n",
       "    <tr>\n",
       "      <th>195</th>\n",
       "      <td>196</td>\n",
       "      <td>3.204</td>\n",
       "      <td>0.078</td>\n",
       "      <td>232.50</td>\n",
       "      <td>13.6</td>\n",
       "      <td>0</td>\n",
       "      <td>0</td>\n",
       "      <td>16</td>\n",
       "    </tr>\n",
       "    <tr>\n",
       "      <th>196</th>\n",
       "      <td>197</td>\n",
       "      <td>3.232</td>\n",
       "      <td>0.078</td>\n",
       "      <td>233.63</td>\n",
       "      <td>13.8</td>\n",
       "      <td>0</td>\n",
       "      <td>0</td>\n",
       "      <td>17</td>\n",
       "    </tr>\n",
       "    <tr>\n",
       "      <th>197</th>\n",
       "      <td>198</td>\n",
       "      <td>3.254</td>\n",
       "      <td>0.074</td>\n",
       "      <td>234.43</td>\n",
       "      <td>13.8</td>\n",
       "      <td>0</td>\n",
       "      <td>0</td>\n",
       "      <td>17</td>\n",
       "    </tr>\n",
       "    <tr>\n",
       "      <th>198</th>\n",
       "      <td>199</td>\n",
       "      <td>3.376</td>\n",
       "      <td>0.050</td>\n",
       "      <td>234.63</td>\n",
       "      <td>14.4</td>\n",
       "      <td>0</td>\n",
       "      <td>0</td>\n",
       "      <td>17</td>\n",
       "    </tr>\n",
       "    <tr>\n",
       "      <th>199</th>\n",
       "      <td>200</td>\n",
       "      <td>3.372</td>\n",
       "      <td>0.048</td>\n",
       "      <td>235.05</td>\n",
       "      <td>14.2</td>\n",
       "      <td>0</td>\n",
       "      <td>0</td>\n",
       "      <td>17</td>\n",
       "    </tr>\n",
       "  </tbody>\n",
       "</table>\n",
       "<p>200 rows × 8 columns</p>\n",
       "</div>"
      ],
      "text/plain": [
       "      Id  Global_active_power  Global_reactive_power  Voltage  \\\n",
       "0      1                4.216                  0.418   234.84   \n",
       "1      2                5.360                  0.436   233.63   \n",
       "2      3                5.374                  0.498   233.29   \n",
       "3      4                5.388                  0.502   233.74   \n",
       "4      5                3.666                  0.528   235.68   \n",
       "..   ...                  ...                    ...      ...   \n",
       "195  196                3.204                  0.078   232.50   \n",
       "196  197                3.232                  0.078   233.63   \n",
       "197  198                3.254                  0.074   234.43   \n",
       "198  199                3.376                  0.050   234.63   \n",
       "199  200                3.372                  0.048   235.05   \n",
       "\n",
       "     Global_intensity  Sub_metering_1  Sub_metering_2  Sub_metering_3  \n",
       "0                18.4               0               1              17  \n",
       "1                23.0               0               1              16  \n",
       "2                23.0               0               2              17  \n",
       "3                23.0               0               1              17  \n",
       "4                15.8               0               1              17  \n",
       "..                ...             ...             ...             ...  \n",
       "195              13.6               0               0              16  \n",
       "196              13.8               0               0              17  \n",
       "197              13.8               0               0              17  \n",
       "198              14.4               0               0              17  \n",
       "199              14.2               0               0              17  \n",
       "\n",
       "[200 rows x 8 columns]"
      ]
     },
     "execution_count": 24,
     "metadata": {},
     "output_type": "execute_result"
    }
   ],
   "source": [
    "df"
   ]
  },
  {
   "cell_type": "code",
   "execution_count": 9,
   "id": "3cb39996",
   "metadata": {
    "ExecuteTime": {
     "end_time": "2022-04-27T13:41:58.312358Z",
     "start_time": "2022-04-27T13:41:58.296640Z"
    }
   },
   "outputs": [],
   "source": [
    "Q1=np.percentile(f_data,25)"
   ]
  },
  {
   "cell_type": "code",
   "execution_count": 10,
   "id": "7e68b481",
   "metadata": {
    "ExecuteTime": {
     "end_time": "2022-04-27T13:42:06.217601Z",
     "start_time": "2022-04-27T13:42:06.185131Z"
    }
   },
   "outputs": [
    {
     "data": {
      "text/plain": [
       "0.052"
      ]
     },
     "execution_count": 10,
     "metadata": {},
     "output_type": "execute_result"
    }
   ],
   "source": [
    "Q1"
   ]
  },
  {
   "cell_type": "code",
   "execution_count": 11,
   "id": "4558bf29",
   "metadata": {
    "ExecuteTime": {
     "end_time": "2022-04-27T13:42:24.567879Z",
     "start_time": "2022-04-27T13:42:24.551799Z"
    }
   },
   "outputs": [],
   "source": [
    "Q3=np.percentile(f_data,75)"
   ]
  },
  {
   "cell_type": "code",
   "execution_count": 12,
   "id": "644dcfa8",
   "metadata": {
    "ExecuteTime": {
     "end_time": "2022-04-27T13:42:28.878248Z",
     "start_time": "2022-04-27T13:42:28.864628Z"
    }
   },
   "outputs": [
    {
     "data": {
      "text/plain": [
       "17.0"
      ]
     },
     "execution_count": 12,
     "metadata": {},
     "output_type": "execute_result"
    }
   ],
   "source": [
    "Q3"
   ]
  },
  {
   "cell_type": "code",
   "execution_count": 13,
   "id": "f99e2cb8",
   "metadata": {
    "ExecuteTime": {
     "end_time": "2022-04-27T13:42:47.893277Z",
     "start_time": "2022-04-27T13:42:47.878480Z"
    }
   },
   "outputs": [],
   "source": [
    "IQR=Q3-Q1"
   ]
  },
  {
   "cell_type": "code",
   "execution_count": 14,
   "id": "3316d34d",
   "metadata": {
    "ExecuteTime": {
     "end_time": "2022-04-27T13:42:51.806049Z",
     "start_time": "2022-04-27T13:42:51.790682Z"
    }
   },
   "outputs": [
    {
     "data": {
      "text/plain": [
       "16.948"
      ]
     },
     "execution_count": 14,
     "metadata": {},
     "output_type": "execute_result"
    }
   ],
   "source": [
    "IQR"
   ]
  },
  {
   "cell_type": "code",
   "execution_count": 16,
   "id": "0facbce9",
   "metadata": {
    "ExecuteTime": {
     "end_time": "2022-04-27T13:44:35.380764Z",
     "start_time": "2022-04-27T13:44:35.373995Z"
    }
   },
   "outputs": [],
   "source": [
    "upperbound =Q3+(1.5*(IQR))"
   ]
  },
  {
   "cell_type": "code",
   "execution_count": 17,
   "id": "80a8fe9d",
   "metadata": {
    "ExecuteTime": {
     "end_time": "2022-04-27T13:44:35.735439Z",
     "start_time": "2022-04-27T13:44:35.722050Z"
    }
   },
   "outputs": [
    {
     "data": {
      "text/plain": [
       "42.422"
      ]
     },
     "execution_count": 17,
     "metadata": {},
     "output_type": "execute_result"
    }
   ],
   "source": [
    "upperbound"
   ]
  },
  {
   "cell_type": "code",
   "execution_count": 18,
   "id": "0f04a78a",
   "metadata": {
    "ExecuteTime": {
     "end_time": "2022-04-27T13:45:17.138038Z",
     "start_time": "2022-04-27T13:45:17.125017Z"
    }
   },
   "outputs": [],
   "source": [
    "lowerpound=Q1 -(1.5*(IQR))"
   ]
  },
  {
   "cell_type": "code",
   "execution_count": 19,
   "id": "3b972853",
   "metadata": {
    "ExecuteTime": {
     "end_time": "2022-04-27T13:45:21.842483Z",
     "start_time": "2022-04-27T13:45:21.836916Z"
    }
   },
   "outputs": [
    {
     "data": {
      "text/plain": [
       "-25.37"
      ]
     },
     "execution_count": 19,
     "metadata": {},
     "output_type": "execute_result"
    }
   ],
   "source": [
    "lowerpound "
   ]
  },
  {
   "cell_type": "code",
   "execution_count": 6,
   "id": "bf3ef77b",
   "metadata": {
    "ExecuteTime": {
     "end_time": "2022-04-27T08:13:20.168276Z",
     "start_time": "2022-04-27T08:13:20.151110Z"
    }
   },
   "outputs": [],
   "source": [
    "data=df"
   ]
  },
  {
   "cell_type": "code",
   "execution_count": 7,
   "id": "079aea23",
   "metadata": {
    "ExecuteTime": {
     "end_time": "2022-04-27T08:13:20.230101Z",
     "start_time": "2022-04-27T08:13:20.172307Z"
    }
   },
   "outputs": [
    {
     "data": {
      "text/html": [
       "<div>\n",
       "<style scoped>\n",
       "    .dataframe tbody tr th:only-of-type {\n",
       "        vertical-align: middle;\n",
       "    }\n",
       "\n",
       "    .dataframe tbody tr th {\n",
       "        vertical-align: top;\n",
       "    }\n",
       "\n",
       "    .dataframe thead th {\n",
       "        text-align: right;\n",
       "    }\n",
       "</style>\n",
       "<table border=\"1\" class=\"dataframe\">\n",
       "  <thead>\n",
       "    <tr style=\"text-align: right;\">\n",
       "      <th></th>\n",
       "      <th>Id</th>\n",
       "      <th>Global_active_power</th>\n",
       "      <th>Global_reactive_power</th>\n",
       "      <th>Voltage</th>\n",
       "      <th>Global_intensity</th>\n",
       "      <th>Sub_metering_1</th>\n",
       "      <th>Sub_metering_2</th>\n",
       "      <th>Sub_metering_3</th>\n",
       "    </tr>\n",
       "  </thead>\n",
       "  <tbody>\n",
       "    <tr>\n",
       "      <th>0</th>\n",
       "      <td>1</td>\n",
       "      <td>4.216</td>\n",
       "      <td>0.418</td>\n",
       "      <td>234.84</td>\n",
       "      <td>18.4</td>\n",
       "      <td>0</td>\n",
       "      <td>1</td>\n",
       "      <td>17</td>\n",
       "    </tr>\n",
       "    <tr>\n",
       "      <th>1</th>\n",
       "      <td>2</td>\n",
       "      <td>5.360</td>\n",
       "      <td>0.436</td>\n",
       "      <td>233.63</td>\n",
       "      <td>23.0</td>\n",
       "      <td>0</td>\n",
       "      <td>1</td>\n",
       "      <td>16</td>\n",
       "    </tr>\n",
       "    <tr>\n",
       "      <th>2</th>\n",
       "      <td>3</td>\n",
       "      <td>5.374</td>\n",
       "      <td>0.498</td>\n",
       "      <td>233.29</td>\n",
       "      <td>23.0</td>\n",
       "      <td>0</td>\n",
       "      <td>2</td>\n",
       "      <td>17</td>\n",
       "    </tr>\n",
       "    <tr>\n",
       "      <th>3</th>\n",
       "      <td>4</td>\n",
       "      <td>5.388</td>\n",
       "      <td>0.502</td>\n",
       "      <td>233.74</td>\n",
       "      <td>23.0</td>\n",
       "      <td>0</td>\n",
       "      <td>1</td>\n",
       "      <td>17</td>\n",
       "    </tr>\n",
       "    <tr>\n",
       "      <th>4</th>\n",
       "      <td>5</td>\n",
       "      <td>3.666</td>\n",
       "      <td>0.528</td>\n",
       "      <td>235.68</td>\n",
       "      <td>15.8</td>\n",
       "      <td>0</td>\n",
       "      <td>1</td>\n",
       "      <td>17</td>\n",
       "    </tr>\n",
       "    <tr>\n",
       "      <th>...</th>\n",
       "      <td>...</td>\n",
       "      <td>...</td>\n",
       "      <td>...</td>\n",
       "      <td>...</td>\n",
       "      <td>...</td>\n",
       "      <td>...</td>\n",
       "      <td>...</td>\n",
       "      <td>...</td>\n",
       "    </tr>\n",
       "    <tr>\n",
       "      <th>195</th>\n",
       "      <td>196</td>\n",
       "      <td>3.204</td>\n",
       "      <td>0.078</td>\n",
       "      <td>232.50</td>\n",
       "      <td>13.6</td>\n",
       "      <td>0</td>\n",
       "      <td>0</td>\n",
       "      <td>16</td>\n",
       "    </tr>\n",
       "    <tr>\n",
       "      <th>196</th>\n",
       "      <td>197</td>\n",
       "      <td>3.232</td>\n",
       "      <td>0.078</td>\n",
       "      <td>233.63</td>\n",
       "      <td>13.8</td>\n",
       "      <td>0</td>\n",
       "      <td>0</td>\n",
       "      <td>17</td>\n",
       "    </tr>\n",
       "    <tr>\n",
       "      <th>197</th>\n",
       "      <td>198</td>\n",
       "      <td>3.254</td>\n",
       "      <td>0.074</td>\n",
       "      <td>234.43</td>\n",
       "      <td>13.8</td>\n",
       "      <td>0</td>\n",
       "      <td>0</td>\n",
       "      <td>17</td>\n",
       "    </tr>\n",
       "    <tr>\n",
       "      <th>198</th>\n",
       "      <td>199</td>\n",
       "      <td>3.376</td>\n",
       "      <td>0.050</td>\n",
       "      <td>234.63</td>\n",
       "      <td>14.4</td>\n",
       "      <td>0</td>\n",
       "      <td>0</td>\n",
       "      <td>17</td>\n",
       "    </tr>\n",
       "    <tr>\n",
       "      <th>199</th>\n",
       "      <td>200</td>\n",
       "      <td>3.372</td>\n",
       "      <td>0.048</td>\n",
       "      <td>235.05</td>\n",
       "      <td>14.2</td>\n",
       "      <td>0</td>\n",
       "      <td>0</td>\n",
       "      <td>17</td>\n",
       "    </tr>\n",
       "  </tbody>\n",
       "</table>\n",
       "<p>200 rows × 8 columns</p>\n",
       "</div>"
      ],
      "text/plain": [
       "      Id  Global_active_power  Global_reactive_power  Voltage  \\\n",
       "0      1                4.216                  0.418   234.84   \n",
       "1      2                5.360                  0.436   233.63   \n",
       "2      3                5.374                  0.498   233.29   \n",
       "3      4                5.388                  0.502   233.74   \n",
       "4      5                3.666                  0.528   235.68   \n",
       "..   ...                  ...                    ...      ...   \n",
       "195  196                3.204                  0.078   232.50   \n",
       "196  197                3.232                  0.078   233.63   \n",
       "197  198                3.254                  0.074   234.43   \n",
       "198  199                3.376                  0.050   234.63   \n",
       "199  200                3.372                  0.048   235.05   \n",
       "\n",
       "     Global_intensity  Sub_metering_1  Sub_metering_2  Sub_metering_3  \n",
       "0                18.4               0               1              17  \n",
       "1                23.0               0               1              16  \n",
       "2                23.0               0               2              17  \n",
       "3                23.0               0               1              17  \n",
       "4                15.8               0               1              17  \n",
       "..                ...             ...             ...             ...  \n",
       "195              13.6               0               0              16  \n",
       "196              13.8               0               0              17  \n",
       "197              13.8               0               0              17  \n",
       "198              14.4               0               0              17  \n",
       "199              14.2               0               0              17  \n",
       "\n",
       "[200 rows x 8 columns]"
      ]
     },
     "execution_count": 7,
     "metadata": {},
     "output_type": "execute_result"
    }
   ],
   "source": [
    "data"
   ]
  },
  {
   "cell_type": "code",
   "execution_count": 8,
   "id": "46820a18",
   "metadata": {
    "ExecuteTime": {
     "end_time": "2022-04-27T03:50:01.078315Z",
     "start_time": "2022-04-27T03:50:01.067385Z"
    }
   },
   "outputs": [],
   "source": [
    "data_t=data.iloc[0:50,:]"
   ]
  },
  {
   "cell_type": "code",
   "execution_count": null,
   "id": "6ed70db5",
   "metadata": {
    "ExecuteTime": {
     "end_time": "2022-04-27T01:08:56.848603Z",
     "start_time": "2022-04-27T01:08:56.794976Z"
    }
   },
   "outputs": [],
   "source": []
  },
  {
   "cell_type": "code",
   "execution_count": 8,
   "id": "e49e5d97",
   "metadata": {
    "ExecuteTime": {
     "end_time": "2022-04-27T08:13:22.142331Z",
     "start_time": "2022-04-27T08:13:22.131849Z"
    }
   },
   "outputs": [],
   "source": [
    "def randomCenters(N,data):\n",
    "    centers=data.sample(n=N)\n",
    "    return centers.values.tolist()"
   ]
  },
  {
   "cell_type": "code",
   "execution_count": 9,
   "id": "990ed194",
   "metadata": {
    "ExecuteTime": {
     "end_time": "2022-04-27T08:13:22.497579Z",
     "start_time": "2022-04-27T08:13:22.478469Z"
    }
   },
   "outputs": [],
   "source": [
    "#import math\n",
    "def calculate_distance(center,points):\n",
    "    distance=0\n",
    "    for i in range(len(points)):\n",
    "        distance+=(center[i]-points[i])**2\n",
    "    return (np.sqrt(distance))"
   ]
  },
  {
   "cell_type": "code",
   "execution_count": 10,
   "id": "df395f9d",
   "metadata": {
    "ExecuteTime": {
     "end_time": "2022-04-27T08:13:22.813530Z",
     "start_time": "2022-04-27T08:13:22.788233Z"
    }
   },
   "outputs": [],
   "source": [
    "from collections import defaultdict\n",
    "d = defaultdict(dict)\n",
    "def find_clusters(centers,data,k):\n",
    "    clusters=[]\n",
    "    for i in range(len(data)):\n",
    "        id_points=data[i][0]\n",
    "        del data[i][0]\n",
    "        for c in range(len(centers)):\n",
    "            dis=calculate_distance(centers[c],data[i])\n",
    "            d[c,id_points]=dis\n",
    "    for n in range(0,len(d.items()),k):\n",
    "        first_n_value =list(d.values())[n:n+k]\n",
    "        val=min(first_n_value)\n",
    "        if(val==0.0):\n",
    "            del val\n",
    "        else:\n",
    "            clusters.append(list(d.keys())[list(d.values()).index(val)])\n",
    "    return clusters"
   ]
  },
  {
   "cell_type": "code",
   "execution_count": 117,
   "id": "a01aa1bf",
   "metadata": {
    "ExecuteTime": {
     "end_time": "2022-04-27T09:25:57.570077Z",
     "start_time": "2022-04-27T09:25:57.560947Z"
    }
   },
   "outputs": [],
   "source": [
    "def group_cluster(cluster):\n",
    "    d = defaultdict(list)\n",
    "    for k, v in cluster:\n",
    "        d[k].append(v)\n",
    "    return d"
   ]
  },
  {
   "cell_type": "code",
   "execution_count": 118,
   "id": "5452d317",
   "metadata": {
    "ExecuteTime": {
     "end_time": "2022-04-27T09:25:58.081790Z",
     "start_time": "2022-04-27T09:25:58.064368Z"
    }
   },
   "outputs": [],
   "source": [
    "def update_centroide(cluster,data):\n",
    "    new_centroid=[]\n",
    "    for k in range(len(cluster)):\n",
    "        index=np.array(cluster[k])\n",
    "        if(len(index!=0)):\n",
    "            row_points=data.iloc[index.flatten()-1,1:]\n",
    "            a,b,c,d,e,f,g=row_points.sum(axis=0)/len(row_points)\n",
    "            new_centroid.append([a,b,c,d,e,f,g])\n",
    "    return new_centroid"
   ]
  },
  {
   "cell_type": "code",
   "execution_count": 119,
   "id": "87692623",
   "metadata": {
    "ExecuteTime": {
     "end_time": "2022-04-27T09:26:01.047368Z",
     "start_time": "2022-04-27T09:25:59.472469Z"
    }
   },
   "outputs": [
    {
     "name": "stdout",
     "output_type": "stream",
     "text": [
      "please Enter number of Cluster : K3\n",
      "Initial centers: \n",
      "Initial clusters: \n",
      "clusters is created\n"
     ]
    }
   ],
   "source": [
    "dic2= defaultdict(list)\n",
    "k=int(input('please Enter number of Cluster : K'))\n",
    "temp= defaultdict(list)\n",
    "dic= defaultdict(list)\n",
    "print(\"Initial centers: \")\n",
    "centers=randomCenters(k,data)\n",
    "print(\"Initial clusters: \")\n",
    "clusters = find_clusters(centers,data.values.tolist(),k)\n",
    "print('clusters is created')\n",
    "group_clusters=group_cluster(clusters)\n",
    "temp_centers=centers"
   ]
  },
  {
   "cell_type": "code",
   "execution_count": 120,
   "id": "c3e80033",
   "metadata": {
    "ExecuteTime": {
     "end_time": "2022-04-27T09:26:01.997056Z",
     "start_time": "2022-04-27T09:26:01.864298Z"
    },
    "scrolled": false
   },
   "outputs": [
    {
     "name": "stdout",
     "output_type": "stream",
     "text": [
      "Iteration 1\n",
      "1\n",
      "Iteration 2\n",
      "1\n",
      "Iteration 3\n",
      "1\n",
      "defaultdict(<class 'list'>, {0: [1.0, 3.0, 4.0, 5.0, 13.0, 14.0, 15.0, 20.0, 22.0, 23.0, 24.0, 25.0, 26.0, 32.0, 34.0, 35.0, 40.0, 42.0, 43.0, 44.0, 45.0, 46.0, 47.0, 48.0, 49.0, 50.0, 52.0, 53.0, 54.0, 55.0, 56.0, 63.0, 64.0, 65.0, 71.0, 73.0, 74.0, 82.0, 83.0, 84.0, 91.0, 92.0, 93.0, 94.0, 96.0, 97.0, 98.0, 122.0, 123.0, 124.0, 125.0, 126.0, 134.0], 4: [1.0, 7.0, 9.0, 10.0, 11.0, 16.0, 17.0, 18.0, 20.0, 26.0, 27.0, 28.0, 29.0, 30.0, 32.0, 35.0, 36.0, 37.0, 38.0, 39.0, 40.0, 50.0, 51.0, 56.0, 57.0, 58.0, 59.0, 60.0, 61.0, 65.0, 66.0, 67.0, 68.0, 69.0, 71.0, 75.0, 76.0, 77.0, 78.0, 79.0, 81.0, 85.0, 87.0, 88.0, 89.0, 90.0, 94.0, 99.0, 100.0, 101.0, 103.0, 106.0, 107.0, 108.0, 109.0, 110.0, 111.0, 112.0, 113.0, 114.0, 115.0, 116.0, 117.0, 118.0, 119.0, 120.0, 127.0, 128.0, 129.0, 130.0, 131.0, 132.0, 135.0, 136.0, 137.0, 138.0, 139.0, 140.0, 141.0, 142.0, 144.0, 145.0, 146.0, 147.0, 148.0, 149.0, 150.0, 151.0, 152.0, 153.0, 154.0, 155.0, 156.0, 157.0, 158.0, 159.0, 160.0, 161.0, 162.0, 163.0, 164.0, 165.0, 166.0, 167.0, 168.0, 169.0, 170.0, 171.0, 172.0, 173.0, 174.0, 175.0, 176.0, 177.0, 178.0, 179.0, 180.0, 181.0, 182.0, 183.0, 184.0, 185.0, 186.0, 187.0, 188.0, 189.0, 190.0, 191.0, 192.0, 193.0, 194.0, 195.0, 196.0, 197.0, 198.0, 199.0, 200.0], 2: [2.0, 3.0, 6.0, 11.0, 12.0, 14.0, 15.0, 21.0, 23.0, 24.0, 33.0, 41.0, 42.0, 44.0, 45.0, 47.0, 48.0, 53.0, 54.0, 62.0, 63.0, 72.0, 74.0, 83.0, 84.0, 92.0, 93.0, 95.0, 96.0, 102.0, 104.0, 105.0, 122.0, 123.0, 125.0, 126.0], 1: [5.0, 6.0, 7.0, 8.0, 9.0, 10.0, 16.0, 17.0, 19.0, 20.0, 26.0, 28.0, 29.0, 31.0, 32.0, 35.0, 37.0, 38.0, 50.0, 56.0, 58.0, 59.0, 61.0, 65.0, 67.0, 68.0, 70.0, 71.0, 75.0, 76.0, 77.0, 79.0, 80.0, 81.0, 85.0, 86.0, 87.0, 88.0, 89.0, 98.0, 99.0, 100.0, 101.0, 103.0, 105.0, 106.0, 107.0, 109.0, 110.0, 112.0, 113.0, 115.0, 116.0, 118.0, 119.0, 121.0, 127.0, 128.0, 130.0, 131.0, 133.0, 134.0, 135.0, 136.0, 137.0, 139.0, 140.0, 142.0, 143.0, 144.0, 145.0, 146.0, 148.0, 149.0, 151.0, 152.0, 154.0, 155.0, 157.0, 158.0, 160.0, 161.0, 163.0, 164.0, 166.0, 167.0, 169.0, 170.0, 172.0, 173.0, 175.0, 176.0, 178.0, 179.0, 181.0, 182.0, 184.0, 185.0, 187.0, 188.0, 190.0, 191.0, 193.0, 194.0, 196.0, 197.0, 199.0, 200.0]})\n"
     ]
    }
   ],
   "source": [
    "itr=1\n",
    "while(True):  \n",
    "    print(\"Iteration \"+str(itr))\n",
    "    print('1')\n",
    "    centers =update_centroide(group_clusters,data)\n",
    "    clusters = find_clusters(centers,data.values.tolist(),k)\n",
    "    dic=group_cluster(clusters)\n",
    "    if(temp_centers==centers):\n",
    "        print(dic)\n",
    "        break\n",
    "    itr+=1\n",
    "    temp_centers=centers"
   ]
  },
  {
   "cell_type": "code",
   "execution_count": null,
   "id": "30d314ac",
   "metadata": {},
   "outputs": [],
   "source": []
  },
  {
   "cell_type": "code",
   "execution_count": null,
   "id": "cf49fcd4",
   "metadata": {},
   "outputs": [],
   "source": []
  },
  {
   "cell_type": "code",
   "execution_count": null,
   "id": "45565c5a",
   "metadata": {},
   "outputs": [],
   "source": []
  },
  {
   "cell_type": "code",
   "execution_count": null,
   "id": "c67622bb",
   "metadata": {},
   "outputs": [],
   "source": []
  }
 ],
 "metadata": {
  "kernelspec": {
   "display_name": "Python 3 (ipykernel)",
   "language": "python",
   "name": "python3"
  },
  "language_info": {
   "codemirror_mode": {
    "name": "ipython",
    "version": 3
   },
   "file_extension": ".py",
   "mimetype": "text/x-python",
   "name": "python",
   "nbconvert_exporter": "python",
   "pygments_lexer": "ipython3",
   "version": "3.9.7"
  }
 },
 "nbformat": 4,
 "nbformat_minor": 5
}
